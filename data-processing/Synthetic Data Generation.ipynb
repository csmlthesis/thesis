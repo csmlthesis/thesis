{
 "cells": [
  {
   "cell_type": "code",
   "execution_count": 1,
   "id": "54137562",
   "metadata": {},
   "outputs": [],
   "source": [
    "%matplotlib inline\n",
    "import nest_asyncio\n",
    "nest_asyncio.apply()\n",
    "\n",
    "import multiprocessing\n",
    "multiprocessing.set_start_method(\"fork\")\n",
    "\n",
    "import pickle\n",
    "import os\n",
    "import math\n",
    "import numpy as np\n",
    "import pandas as pd\n",
    "import scipy as sp\n",
    "from scipy import stats\n",
    "import matplotlib.pyplot as plt\n",
    "import random\n",
    "import seaborn as sns\n",
    "import math\n",
    "import statsmodels\n",
    "import stan\n",
    "import arviz as az\n",
    "import cmdstanpy\n",
    "from cmdstanpy import cmdstan_path, CmdStanModel\n",
    "import scipy\n",
    "pd.set_option(\"display.max_rows\", None, \"display.max_columns\", None)"
   ]
  },
  {
   "cell_type": "markdown",
   "id": "18b7c3b9",
   "metadata": {},
   "source": [
    "# Synthetic Data Generation"
   ]
  },
  {
   "cell_type": "code",
   "execution_count": 2,
   "id": "3e50daa8",
   "metadata": {
    "run_control": {
     "marked": true
    }
   },
   "outputs": [],
   "source": [
    "num_country = 5\n",
    "site_lengths = []\n",
    "column_names = [\"country_number\",\"site_number\",\"number_recruited\", \"week\"]\n",
    "df = pd.DataFrame(columns = column_names)\n",
    "site_num=0\n",
    "for i in range(num_country):\n",
    "    num_sites = np.random.randint(5,10)\n",
    "    site_idx = np.arange(num_sites)\n",
    "    site_rep = np.random.randint(1,4)\n",
    "    for j in range(num_sites):\n",
    "        site_num += 1\n",
    "        site_multiplier =np.random.normal(1,0.1)\n",
    "\n",
    "        for k in range(site_rep):\n",
    "            site_length = np.random.randint(3,30)\n",
    "            if site_length >= 16 :\n",
    "                site_length += np.random.randint(1,50)\n",
    "\n",
    "            country_idx = (np.full(site_length, i)).astype('int')\n",
    "            site_idx = (np.full(site_length, site_num)).astype('int')\n",
    "            temp_x = (np.arange(site_length)).astype('float')\n",
    "            if i == 0:\n",
    "                intensity = site_multiplier * np.exp(-0.001*temp_x**2+0.007*temp_x)+.2\n",
    "            elif i == 1 :\n",
    "                intensity = site_multiplier * np.exp(-0.001*temp_x**2+0.025*temp_x)+.2\n",
    "            elif i == 2 :\n",
    "                intensity = site_multiplier * np.exp(-0.004*temp_x**2+0.25*temp_x-4.5)+.6\n",
    "            elif i == 3 :\n",
    "                intensity = site_multiplier * np.exp(-.0001*temp_x**2+0.01*temp_x-0.7)+.5\n",
    "            elif i == 4 :\n",
    "                intensity = site_multiplier * np.exp(-.0005*temp_x**2+0.05*temp_x-1.5)+.3\n",
    "\n",
    "            number_recruited = (np.random.poisson(intensity)).astype('float')\n",
    "            d = dict(country_number = country_idx, site_number = site_idx, number_recruited = number_recruited, week = temp_x+1)\n",
    "            df_site = pd.DataFrame(dict([ (k,pd.Series(v)) for k,v in d.items() ]))\n",
    "            df = df.append(df_site, ignore_index = True)"
   ]
  },
  {
   "cell_type": "code",
   "execution_count": 4,
   "id": "f1dfce86",
   "metadata": {
    "scrolled": true
   },
   "outputs": [
    {
     "data": {
      "text/plain": [
       "country_number\n",
       "0    684\n",
       "1    659\n",
       "2    471\n",
       "3    347\n",
       "4    283\n",
       "Name: week, dtype: int64"
      ]
     },
     "execution_count": 4,
     "metadata": {},
     "output_type": "execute_result"
    }
   ],
   "source": [
    "df.groupby(['country_number'])['week'].count()"
   ]
  },
  {
   "cell_type": "code",
   "execution_count": 5,
   "id": "fdb3f7e6",
   "metadata": {
    "run_control": {
     "marked": true
    }
   },
   "outputs": [
    {
     "data": {
      "text/plain": [
       "[<matplotlib.lines.Line2D at 0x7fd2306302b0>]"
      ]
     },
     "execution_count": 5,
     "metadata": {},
     "output_type": "execute_result"
    },
    {
     "data": {
      "image/png": "[encoded data removed]",
      "text/plain": [
       "<Figure size 432x288 with 1 Axes>"
      ]
     },
     "metadata": {
      "needs_background": "light"
     },
     "output_type": "display_data"
    }
   ],
   "source": [
    "x_range = np.linspace(1, 80,250)\n",
    "\n",
    "intensity1 = np.exp(-0.001*x_range**2+0.007*x_range)+.2\n",
    "intensity2 = np.exp(-0.001*x_range**2+0.025*x_range)+.2\n",
    "intensity3 = np.exp(-0.004*x_range**2+0.25*x_range-4.5)+.6\n",
    "intensity4 = np.exp(-.0001*x_range**2+0.01*x_range-0.7)+.5\n",
    "intensity5 = np.exp(-.0005*x_range**2+0.05*x_range-1.5)+.3\n",
    "\n",
    "plt.plot(x_range, intensity1, '-r')\n",
    "plt.plot(x_range, intensity2, '-b')\n",
    "plt.plot(x_range, intensity3, '-g')\n",
    "plt.plot(x_range, intensity4, '-c')\n",
    "plt.plot(x_range, intensity5, '-y')"
   ]
  },
  {
   "cell_type": "code",
   "execution_count": 6,
   "id": "51f55652",
   "metadata": {},
   "outputs": [],
   "source": [
    "# Number of countries\n",
    "totalN = len(df)\n",
    "J = len(df.country_number.unique())\n",
    "S = len(df.site_number.unique())\n",
    "country = np.reshape((np.array([df.country_number])),(totalN,))+1\n",
    "site = (np.reshape((np.array([df.site_number])),(totalN,)))\n",
    "N = list(df.groupby(['country_number']).count().max(axis=1))\n",
    "maxN = max(df.groupby(['country_number']).count().max(axis=1))\n",
    "country_of_site = np.array(df.groupby(['country_number','site_number']).size().reset_index()['country_number'])+1"
   ]
  },
  {
   "cell_type": "code",
   "execution_count": 7,
   "id": "8e35a725",
   "metadata": {},
   "outputs": [],
   "source": [
    "n_tilde = 150\n",
    "x_tilde = np.zeros((J,n_tilde))\n",
    "for i in range(J):\n",
    "    x_tilde[i] = np.linspace(1., df.groupby(['country_number'])['week'].max()[i]+5, n_tilde)"
   ]
  },
  {
   "cell_type": "code",
   "execution_count": 8,
   "id": "ff1eaf7c",
   "metadata": {},
   "outputs": [],
   "source": [
    "intensity = np.zeros((J,n_tilde))\n",
    "for i in range(J):\n",
    "    if i == 0:\n",
    "        temp_intensity = np.exp(-0.001*x_tilde[i]**2+0.007*x_tilde[i])+.2\n",
    "    elif i == 1 :\n",
    "        temp_intensity = np.exp(-0.001*x_tilde[i]**2+0.025*x_tilde[i])+.2\n",
    "    elif i == 2 :\n",
    "        temp_intensity = np.exp(-0.004*x_tilde[i]**2+0.25*x_tilde[i]-4.5)+.6\n",
    "    elif i == 3 : \n",
    "        temp_intensity = np.exp(-.0001*x_tilde[i]**2+0.01*x_tilde[i]-0.7)+.5\n",
    "    elif i == 4 :\n",
    "        temp_intensity = np.exp(-.0005*x_tilde[i]**2+0.05*x_tilde[i]-1.5)+.3\n",
    "    intensity[i] = temp_intensity"
   ]
  },
  {
   "cell_type": "code",
   "execution_count": 9,
   "id": "60ead8ed",
   "metadata": {
    "run_control": {
     "marked": true
    }
   },
   "outputs": [],
   "source": [
    "df[df['country_number']==0]\n",
    "dfs_to_join_x = []\n",
    "dfs_to_join_y = []\n",
    "dfs_to_join_s = []\n",
    "\n",
    "for j in range(J):\n",
    "    temp_df = df[df['country_number']==j]\n",
    "    temp_df_x = pd.DataFrame(temp_df['week'])\n",
    "    temp_df_y = pd.DataFrame(temp_df['number_recruited'])\n",
    "    temp_df_s = pd.DataFrame(temp_df['site_number'])\n",
    "\n",
    "    temp_df_x = temp_df_x.reset_index(drop=True)\n",
    "    temp_df_y = temp_df_y.reset_index(drop=True)\n",
    "    temp_df_s = temp_df_s.reset_index(drop=True)\n",
    "\n",
    "    dfs_to_join_x.append(temp_df_x)\n",
    "    dfs_to_join_y.append(temp_df_y)\n",
    "    dfs_to_join_s.append(temp_df_s)\n",
    "\n",
    "df_to_join_x = pd.concat(dfs_to_join_x, axis=1)\n",
    "df_to_join_y = pd.concat(dfs_to_join_y, axis=1)\n",
    "df_to_join_s = pd.concat(dfs_to_join_s, axis=1)\n",
    "\n",
    "\n",
    "df_to_join_x = df_to_join_x.fillna(0)\n",
    "df_to_join_y = df_to_join_y.fillna(0)\n",
    "df_to_join_s = df_to_join_s.fillna(0)\n",
    "\n",
    "y = np.array(df_to_join_y.T).astype(int)\n",
    "x = np.array(df_to_join_x.T)\n",
    "site = np.array(df_to_join_s.T).astype(int)\n"
   ]
  },
  {
   "cell_type": "code",
   "execution_count": 10,
   "id": "cce0e994",
   "metadata": {},
   "outputs": [],
   "source": [
    "synth_data = {'J': J, 'maxN': maxN, 'N': N, 'y': y, 'x': x, 'S':S, 'site':site, 'n_tilde':n_tilde, 'country_of_site':country_of_site}"
   ]
  }
 ],
 "metadata": {
  "kernelspec": {
   "display_name": "Python 3",
   "language": "python",
   "name": "python3"
  },
  "language_info": {
   "codemirror_mode": {
    "name": "ipython",
    "version": 3
   },
   "file_extension": ".py",
   "mimetype": "text/x-python",
   "name": "python",
   "nbconvert_exporter": "python",
   "pygments_lexer": "ipython3",
   "version": "3.8.10"
  }
 },
 "nbformat": 4,
 "nbformat_minor": 5
}
