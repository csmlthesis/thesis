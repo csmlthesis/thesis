{
 "cells": [
  {
   "cell_type": "code",
   "execution_count": null,
   "id": "4102791e",
   "metadata": {},
   "outputs": [],
   "source": [
    "%matplotlib inline\n",
    "import nest_asyncio\n",
    "nest_asyncio.apply()\n",
    "\n",
    "import multiprocessing\n",
    "multiprocessing.set_start_method(\"fork\")\n",
    "\n",
    "import pickle\n",
    "import os\n",
    "import math\n",
    "import numpy as np\n",
    "import pandas as pd\n",
    "import scipy as sp\n",
    "from scipy import stats\n",
    "import matplotlib.pyplot as plt\n",
    "import random\n",
    "import seaborn as sns\n",
    "import math\n",
    "import statsmodels\n",
    "import stan\n",
    "import arviz as az\n",
    "import cmdstanpy\n",
    "from cmdstanpy import cmdstan_path, CmdStanModel"
   ]
  },
  {
   "cell_type": "code",
   "execution_count": null,
   "id": "0e9a1235",
   "metadata": {},
   "outputs": [],
   "source": [
    "df = pd.read_pickle(\"v33_real_data.pkl\")"
   ]
  },
  {
   "cell_type": "code",
   "execution_count": null,
   "id": "496dbb43",
   "metadata": {},
   "outputs": [],
   "source": [
    "df.groupby(['country_number'])['week'].count()"
   ]
  },
  {
   "cell_type": "code",
   "execution_count": null,
   "id": "238860e5",
   "metadata": {},
   "outputs": [],
   "source": [
    "# Number of countries\n",
    "totalN = len(df)\n",
    "J = len(df.country_number.unique())\n",
    "S = len(df.site_number.unique())\n",
    "country = np.reshape((np.array([df.country_number])),(totalN,))\n",
    "site = (np.reshape((np.array([df.site_number])),(totalN,)))\n",
    "N = list(df.groupby(['country_number']).count().max(axis=1))\n",
    "maxN = max(df.groupby(['country_number']).count().max(axis=1))\n",
    "country_of_site = np.array(df.groupby(['country_number','site_number']).size().reset_index()['country_number'])\n",
    "site_df = df.groupby(['site_number'])['week'].count()\n",
    "site_df = pd.DataFrame([site_df]).T"
   ]
  },
  {
   "cell_type": "code",
   "execution_count": null,
   "id": "8fbb8f0b",
   "metadata": {},
   "outputs": [],
   "source": [
    "df[df['country_number']==0]\n",
    "dfs_to_join_x = []\n",
    "dfs_to_join_y = []\n",
    "dfs_to_join_s = []\n",
    "\n",
    "for j in range(J):\n",
    "    temp_df = df[df['country_number']==j+1]\n",
    "    temp_df_x = pd.DataFrame(temp_df['week'])\n",
    "    temp_df_y = pd.DataFrame(temp_df['number_recruited'])\n",
    "    temp_df_s = pd.DataFrame(temp_df['site_number'])\n",
    "\n",
    "    temp_df_x = temp_df_x.reset_index(drop=True)\n",
    "    temp_df_y = temp_df_y.reset_index(drop=True)\n",
    "    temp_df_s = temp_df_s.reset_index(drop=True)\n",
    "\n",
    "    dfs_to_join_x.append(temp_df_x)\n",
    "    dfs_to_join_y.append(temp_df_y)\n",
    "    dfs_to_join_s.append(temp_df_s)\n",
    "\n",
    "df_to_join_x = pd.concat(dfs_to_join_x, axis=1)\n",
    "df_to_join_y = pd.concat(dfs_to_join_y, axis=1)\n",
    "df_to_join_s = pd.concat(dfs_to_join_s, axis=1)\n",
    "\n",
    "\n",
    "df_to_join_x = df_to_join_x.fillna(0)\n",
    "df_to_join_y = df_to_join_y.fillna(0)\n",
    "df_to_join_s = df_to_join_s.fillna(0)\n",
    "\n",
    "y = np.array(df_to_join_y.T).astype(int)\n",
    "x = np.array(df_to_join_x.T)\n",
    "site = np.array(df_to_join_s.T).astype(int)\n",
    "n_tilde = 200"
   ]
  },
  {
   "cell_type": "code",
   "execution_count": null,
   "id": "9dab7216",
   "metadata": {},
   "outputs": [],
   "source": [
    "x_tilde = np.zeros((J,n_tilde))\n",
    "for i in range(J):\n",
    "    x_tilde[i] = np.linspace(1, np.array(df.groupby(['country_number'], sort=False)['week'].max())[i]+5, n_tilde)"
   ]
  },
  {
   "cell_type": "code",
   "execution_count": null,
   "id": "9bf4b264",
   "metadata": {},
   "outputs": [],
   "source": [
    "real_data = {'J': J, 'maxN': maxN, 'N': N, 'y': y, 'x': x, 'S':S, 'site':site, 'n_tilde':n_tilde, 'country_of_site':country_of_site}"
   ]
  },
  {
   "cell_type": "markdown",
   "id": "ca15fd62",
   "metadata": {},
   "source": [
    "# 1. Homogeneous Poisson-Gamma"
   ]
  },
  {
   "cell_type": "code",
   "execution_count": null,
   "id": "a879a551",
   "metadata": {},
   "outputs": [],
   "source": [
    "with open('real_hpg.pickle', 'rb') as f:\n",
    "    hpg_list = pickle.load(f)\n",
    "r_hpg_model, r_hpg_fit = hpg_list"
   ]
  },
  {
   "cell_type": "code",
   "execution_count": null,
   "id": "0618a364",
   "metadata": {},
   "outputs": [],
   "source": [
    "hpg_arviz = az.from_cmdstanpy(\n",
    "    posterior= r_hpg_fit,\n",
    "    observed_data={\"y\": y},\n",
    "    log_likelihood=\"log_lik\"\n",
    ")"
   ]
  },
  {
   "cell_type": "markdown",
   "id": "0613e76e",
   "metadata": {},
   "source": [
    "### Diagnostics"
   ]
  },
  {
   "cell_type": "code",
   "execution_count": null,
   "id": "60354ae6",
   "metadata": {},
   "outputs": [],
   "source": [
    "az.plot_posterior(hpg_arviz, var_names=['lambda'])"
   ]
  },
  {
   "cell_type": "code",
   "execution_count": null,
   "id": "402ed4d2",
   "metadata": {},
   "outputs": [],
   "source": [
    "az.plot_trace(hpg_arviz, var_names=['lambda'])"
   ]
  },
  {
   "cell_type": "code",
   "execution_count": null,
   "id": "44ce6708",
   "metadata": {},
   "outputs": [],
   "source": [
    "az.ess(hpg_arviz, var_names=['lambda'])"
   ]
  },
  {
   "cell_type": "code",
   "execution_count": null,
   "id": "4c0bc5f8",
   "metadata": {},
   "outputs": [],
   "source": [
    "az.rhat(hpg_arviz, var_names=['lambda'])"
   ]
  },
  {
   "cell_type": "markdown",
   "id": "d4bd67ba",
   "metadata": {},
   "source": [
    "# 2. Hierarchical Homogeneous Poisson-Gamma"
   ]
  },
  {
   "cell_type": "code",
   "execution_count": null,
   "id": "8667f999",
   "metadata": {},
   "outputs": [],
   "source": [
    "with open('real_hhpg.pickle', 'rb') as f:\n",
    "    hhpg_list = pickle.load(f)\n",
    "r_hhpg_model, r_hhpg_fit = hhpg_list"
   ]
  },
  {
   "cell_type": "code",
   "execution_count": null,
   "id": "acee4a2f",
   "metadata": {},
   "outputs": [],
   "source": [
    "hhpg_arviz = az.from_cmdstanpy(\n",
    "    posterior= r_hhpg_fit,\n",
    "    observed_data={\"y\": y},\n",
    "    log_likelihood=\"log_lik\"\n",
    ")"
   ]
  },
  {
   "cell_type": "markdown",
   "id": "fd6fb94c",
   "metadata": {},
   "source": [
    "### Diagnostics"
   ]
  },
  {
   "cell_type": "code",
   "execution_count": null,
   "id": "717b2bf3",
   "metadata": {},
   "outputs": [],
   "source": [
    "az.plot_posterior(hhpg_arviz, var_names=['site_lambda'])"
   ]
  },
  {
   "cell_type": "code",
   "execution_count": null,
   "id": "fac3fc02",
   "metadata": {},
   "outputs": [],
   "source": [
    "az.plot_trace(hhpg_arviz, var_names=['site_lambda'])"
   ]
  },
  {
   "cell_type": "code",
   "execution_count": null,
   "id": "3553a9ef",
   "metadata": {},
   "outputs": [],
   "source": [
    "az.ess(hhpg_arviz, var_names=['site_lambda'])"
   ]
  },
  {
   "cell_type": "code",
   "execution_count": null,
   "id": "29949676",
   "metadata": {},
   "outputs": [],
   "source": [
    "az.rhat(hhpg_arviz, var_names=['site_lambda'])"
   ]
  },
  {
   "cell_type": "markdown",
   "id": "f497791a",
   "metadata": {},
   "source": [
    "# 3. Conditional Linear Model"
   ]
  },
  {
   "cell_type": "code",
   "execution_count": null,
   "id": "01718cc5",
   "metadata": {},
   "outputs": [],
   "source": [
    "with open('real_clm.pickle', 'rb') as f:\n",
    "    clm_list = pickle.load(f)\n",
    "r_clm_model, r_clm_fit = clm_list"
   ]
  },
  {
   "cell_type": "code",
   "execution_count": null,
   "id": "6260a39a",
   "metadata": {},
   "outputs": [],
   "source": [
    "clm_arviz = az.from_cmdstanpy(\n",
    "    posterior= r_clm_fit,\n",
    "    observed_data={\"y\": y},\n",
    "    log_likelihood=\"log_lik\"\n",
    ")"
   ]
  },
  {
   "cell_type": "markdown",
   "id": "f7004c7c",
   "metadata": {},
   "source": [
    "### Diagnostics"
   ]
  },
  {
   "cell_type": "code",
   "execution_count": null,
   "id": "8d184104",
   "metadata": {},
   "outputs": [],
   "source": [
    "az.plot_posterior(clm_arviz, var_names=['country_a','country_b'])"
   ]
  },
  {
   "cell_type": "code",
   "execution_count": null,
   "id": "cd4c4d15",
   "metadata": {},
   "outputs": [],
   "source": [
    "az.plot_trace(clm_arviz, var_names=['country_a','country_b'])"
   ]
  },
  {
   "cell_type": "code",
   "execution_count": null,
   "id": "f3ef2465",
   "metadata": {},
   "outputs": [],
   "source": [
    "az.ess(clm_arviz, var_names=['country_a','country_b'])"
   ]
  },
  {
   "cell_type": "code",
   "execution_count": null,
   "id": "0a965f75",
   "metadata": {},
   "outputs": [],
   "source": [
    "az.rhat(clm_arviz, var_names=['country_a','country_b'])"
   ]
  },
  {
   "cell_type": "markdown",
   "id": "e74062d7",
   "metadata": {},
   "source": [
    "# 4. Hierarchical Condtional Linear"
   ]
  },
  {
   "cell_type": "code",
   "execution_count": null,
   "id": "5dc91a10",
   "metadata": {},
   "outputs": [],
   "source": [
    "with open('real_hclm.pickle', 'rb') as f:\n",
    "    hclm_list = pickle.load(f)\n",
    "r_hclm_model, r_hclm_fit = hclm_list"
   ]
  },
  {
   "cell_type": "code",
   "execution_count": null,
   "id": "44d98551",
   "metadata": {},
   "outputs": [],
   "source": [
    "hclm_arviz = az.from_cmdstanpy(\n",
    "    posterior= r_hclm_fit,\n",
    "    observed_data={\"y\": y},\n",
    "    log_likelihood=\"log_lik\"\n",
    ")"
   ]
  },
  {
   "cell_type": "markdown",
   "id": "69363e5b",
   "metadata": {},
   "source": [
    "### Diagnostics"
   ]
  },
  {
   "cell_type": "code",
   "execution_count": null,
   "id": "cf5a546e",
   "metadata": {},
   "outputs": [],
   "source": [
    "az.plot_posterior(hclm_arviz, var_names=['site_a','site_b'])"
   ]
  },
  {
   "cell_type": "code",
   "execution_count": null,
   "id": "d1f626fa",
   "metadata": {},
   "outputs": [],
   "source": [
    "az.plot_trace(hclm_arviz, var_names=['site_a','site_b'])"
   ]
  },
  {
   "cell_type": "code",
   "execution_count": null,
   "id": "f5243b4b",
   "metadata": {},
   "outputs": [],
   "source": [
    "az.ess(hclm_arviz, var_names=['site_a','site_b'])"
   ]
  },
  {
   "cell_type": "code",
   "execution_count": null,
   "id": "ca49170e",
   "metadata": {},
   "outputs": [],
   "source": [
    "az.rhat(hclm_arviz, var_names=['site_a','site_b'])"
   ]
  },
  {
   "cell_type": "markdown",
   "id": "52873c48",
   "metadata": {},
   "source": [
    "# 5. LGCP"
   ]
  },
  {
   "cell_type": "code",
   "execution_count": null,
   "id": "4cc090c6",
   "metadata": {},
   "outputs": [],
   "source": [
    "with open('real_non_hierarchical_GP_prior2.pickle', 'rb') as f:\n",
    "    lgcp_list = pickle.load(f)\n",
    "r_lgcp_model, r_lgcp_fit = lgcp_list"
   ]
  },
  {
   "cell_type": "code",
   "execution_count": null,
   "id": "bd06401f",
   "metadata": {},
   "outputs": [],
   "source": [
    "lgcp_arviz = az.from_cmdstanpy(\n",
    "    posterior= r_lgcp_fit,\n",
    "    observed_data={\"y\": y},\n",
    "    log_likelihood=\"log_lik\"\n",
    ")"
   ]
  },
  {
   "cell_type": "markdown",
   "id": "473f4879",
   "metadata": {},
   "source": [
    "### Diagnostics"
   ]
  },
  {
   "cell_type": "code",
   "execution_count": null,
   "id": "88ba9ecb",
   "metadata": {},
   "outputs": [],
   "source": [
    "az.plot_posterior(lgcp_arviz, var_names=['country_a', 'country_rho', 'country_alpha'])"
   ]
  },
  {
   "cell_type": "code",
   "execution_count": null,
   "id": "6d4d894e",
   "metadata": {},
   "outputs": [],
   "source": [
    "az.plot_trace(lgcp_arviz, var_names=['country_a', 'country_rho', 'country_alpha'])"
   ]
  },
  {
   "cell_type": "code",
   "execution_count": null,
   "id": "6abe5b1c",
   "metadata": {},
   "outputs": [],
   "source": [
    "az.ess(lgcp_arviz, var_names=['country_a', 'country_rho', 'country_alpha'])"
   ]
  },
  {
   "cell_type": "code",
   "execution_count": null,
   "id": "20457b7a",
   "metadata": {},
   "outputs": [],
   "source": [
    "az.rhat(lgcp_arviz, var_names=['country_a', 'country_rho', 'country_alpha'])"
   ]
  },
  {
   "cell_type": "markdown",
   "id": "1eeab92e",
   "metadata": {},
   "source": [
    "# 6. HLGCP - Prior 1"
   ]
  },
  {
   "cell_type": "code",
   "execution_count": null,
   "id": "8658f546",
   "metadata": {},
   "outputs": [],
   "source": [
    "with open('real_hierarchical_GP_prior2.pickle', 'rb') as f:\n",
    "    hlgcp1_list = pickle.load(f)\n",
    "r_hlgcp1_model, r_hlgcp1_fit = hlgcp1_list"
   ]
  },
  {
   "cell_type": "code",
   "execution_count": null,
   "id": "c8684c42",
   "metadata": {},
   "outputs": [],
   "source": [
    "hlgcp1_arviz = az.from_cmdstanpy(\n",
    "    posterior= r_hlgcp1_fit,\n",
    "    observed_data={\"y\": y},\n",
    "    log_likelihood=\"log_lik\"\n",
    ")"
   ]
  },
  {
   "cell_type": "markdown",
   "id": "e1899471",
   "metadata": {},
   "source": [
    "### Diagnostics"
   ]
  },
  {
   "cell_type": "code",
   "execution_count": null,
   "id": "91cd85ee",
   "metadata": {},
   "outputs": [],
   "source": [
    "az.plot_posterior(hlgcp_arviz, var_names=['country_a', 'country_rho', 'country_alpha'])"
   ]
  },
  {
   "cell_type": "code",
   "execution_count": null,
   "id": "60c3e7c8",
   "metadata": {},
   "outputs": [],
   "source": [
    "az.plot_trace(hlgcp_arviz, var_names=['country_a', 'country_rho', 'country_alpha'])"
   ]
  },
  {
   "cell_type": "code",
   "execution_count": null,
   "id": "3cb2d922",
   "metadata": {},
   "outputs": [],
   "source": [
    "az.ess(hlgcp_arviz, var_names=['country_a', 'country_rho', 'country_alpha'])"
   ]
  },
  {
   "cell_type": "code",
   "execution_count": null,
   "id": "cb3da23d",
   "metadata": {},
   "outputs": [],
   "source": [
    "az.rhat(hlgcp_arviz, var_names=['country_a', 'country_rho', 'country_alpha'])"
   ]
  },
  {
   "cell_type": "markdown",
   "id": "c27105e4",
   "metadata": {},
   "source": [
    "# 7. HLGCP - Prior 2"
   ]
  },
  {
   "cell_type": "code",
   "execution_count": null,
   "id": "ccc027c6",
   "metadata": {},
   "outputs": [],
   "source": [
    "with open('real_hierarchical_GP_prior3.pickle', 'rb') as f:\n",
    "    hlgcp2_list = pickle.load(f)\n",
    "r_hlgcp2_model, r_hlgcp2_fit = hlgcp2_list"
   ]
  },
  {
   "cell_type": "code",
   "execution_count": null,
   "id": "24b00d64",
   "metadata": {},
   "outputs": [],
   "source": [
    "hlgcp2_arviz = az.from_cmdstanpy(\n",
    "    posterior= r_hlgcp2_fit,\n",
    "    observed_data={\"y\": y},\n",
    "    log_likelihood=\"log_lik\"\n",
    ")"
   ]
  },
  {
   "cell_type": "markdown",
   "id": "320928b4",
   "metadata": {},
   "source": [
    "### Diagnostics"
   ]
  },
  {
   "cell_type": "code",
   "execution_count": null,
   "id": "335c0f07",
   "metadata": {},
   "outputs": [],
   "source": [
    "az.plot_posterior(hlgcp2_arviz, var_names=['country_a', 'country_rho', 'country_alpha'])"
   ]
  },
  {
   "cell_type": "code",
   "execution_count": null,
   "id": "8ebd02f2",
   "metadata": {},
   "outputs": [],
   "source": [
    "az.plot_trace(hlgcp2_arviz, var_names=['country_a', 'country_rho', 'country_alpha'])"
   ]
  },
  {
   "cell_type": "code",
   "execution_count": null,
   "id": "0b3bb5eb",
   "metadata": {},
   "outputs": [],
   "source": [
    "az.ess(hlgcp2_arviz, var_names=['country_a', 'country_rho', 'country_alpha'])"
   ]
  },
  {
   "cell_type": "code",
   "execution_count": null,
   "id": "d7f437e0",
   "metadata": {},
   "outputs": [],
   "source": [
    "az.rhat(hlgcp2_arviz, var_names=['country_a', 'country_rho', 'country_alpha'])"
   ]
  },
  {
   "cell_type": "markdown",
   "id": "cdbe32fe",
   "metadata": {},
   "source": [
    "# 8. HLGCP - Prior 3"
   ]
  },
  {
   "cell_type": "code",
   "execution_count": null,
   "id": "1f7e32df",
   "metadata": {},
   "outputs": [],
   "source": [
    "with open('real_hierarchical_GP_prior4.pickle', 'rb') as f:\n",
    "    hlgcp_list3 = pickle.load(f)\n",
    "r_hlgcp3_model, r_hlgcp3_fit = hlgcp_list3"
   ]
  },
  {
   "cell_type": "code",
   "execution_count": null,
   "id": "1c5af59e",
   "metadata": {},
   "outputs": [],
   "source": [
    "hlgcp3_arviz = az.from_cmdstanpy(\n",
    "    posterior=r_hlgcp3_fit,\n",
    "    observed_data={\"y\": y},\n",
    "    log_likelihood=\"log_lik\"\n",
    ")"
   ]
  },
  {
   "cell_type": "markdown",
   "id": "48c225d5",
   "metadata": {},
   "source": [
    "### Diagnostics"
   ]
  },
  {
   "cell_type": "code",
   "execution_count": null,
   "id": "82e9b234",
   "metadata": {},
   "outputs": [],
   "source": [
    "az.plot_posterior(hlgcp3_arviz, var_names=['country_a', 'country_rho', 'country_alpha'])\n"
   ]
  },
  {
   "cell_type": "code",
   "execution_count": null,
   "id": "45e5f8ce",
   "metadata": {
    "scrolled": true
   },
   "outputs": [],
   "source": [
    "az.plot_trace(hlgcp3_arviz, var_names=['country_a', 'country_rho', 'country_alpha'])\n"
   ]
  },
  {
   "cell_type": "code",
   "execution_count": null,
   "id": "f6b97a57",
   "metadata": {},
   "outputs": [],
   "source": [
    "az.ess(hlgcp3_arviz, var_names=['country_a', 'country_rho', 'country_alpha'])"
   ]
  },
  {
   "cell_type": "code",
   "execution_count": null,
   "id": "39fcc9c1",
   "metadata": {
    "scrolled": true
   },
   "outputs": [],
   "source": [
    "az.rhat(hlgcp3_arviz, var_names=['country_a', 'country_rho', 'country_alpha'])\n"
   ]
  },
  {
   "cell_type": "markdown",
   "id": "4fbd25fc",
   "metadata": {},
   "source": [
    "# 9. HLGCPT"
   ]
  },
  {
   "cell_type": "code",
   "execution_count": null,
   "id": "f6f51d99",
   "metadata": {},
   "outputs": [],
   "source": [
    "with open('real_hier_GP_trend.pickle', 'rb') as f:\n",
    "    hlgcpt_list = pickle.load(f)\n",
    "r_hlgcpt_fit, r_hlgcpt_fit = hlgcpt_list"
   ]
  },
  {
   "cell_type": "code",
   "execution_count": null,
   "id": "716bfbc8",
   "metadata": {},
   "outputs": [],
   "source": [
    "hlgcpt_arviz = az.from_cmdstanpy(\n",
    "    posterior=r_hlgcpt_fit,\n",
    "    observed_data={\"y\": y},\n",
    "    log_likelihood=\"log_lik\"\n",
    ")"
   ]
  },
  {
   "cell_type": "markdown",
   "id": "bd0acda3",
   "metadata": {},
   "source": [
    "### Diagnostics"
   ]
  },
  {
   "cell_type": "code",
   "execution_count": null,
   "id": "fca366eb",
   "metadata": {},
   "outputs": [],
   "source": [
    "az.plot_posterior(hlgcpt_arviz, var_names=['country_a', 'country_b','country_rho', 'country_alpha'])"
   ]
  },
  {
   "cell_type": "code",
   "execution_count": null,
   "id": "8371481e",
   "metadata": {},
   "outputs": [],
   "source": [
    "az.plot_trace(hlgcpt_arviz, var_names=['country_a','country_b', 'country_rho', 'country_alpha'])"
   ]
  },
  {
   "cell_type": "code",
   "execution_count": null,
   "id": "78d241c7",
   "metadata": {},
   "outputs": [],
   "source": [
    "az.ess(hlgcpt_arviz, var_names=['country_a','country_b', 'country_rho', 'country_alpha'])"
   ]
  },
  {
   "cell_type": "code",
   "execution_count": null,
   "id": "75480971",
   "metadata": {},
   "outputs": [],
   "source": [
    "az.rhat(hlgcpt_arviz, var_names=['country_a','country_b', 'country_rho', 'country_alpha'])"
   ]
  },
  {
   "cell_type": "markdown",
   "id": "0e78a589",
   "metadata": {},
   "source": [
    "# 10. HSGCP"
   ]
  },
  {
   "cell_type": "code",
   "execution_count": null,
   "id": "2ff60341",
   "metadata": {},
   "outputs": [],
   "source": [
    "with open('real_hierarchical_sigmoidal.pickle', 'rb') as f:\n",
    "    hsgcp_list = pickle.load(f)\n",
    "r_hsgcp_model, r_hsgcp_fit = hsgcp_list"
   ]
  },
  {
   "cell_type": "code",
   "execution_count": null,
   "id": "07c0ef6a",
   "metadata": {},
   "outputs": [],
   "source": [
    "hsgcp_arviz = az.from_cmdstanpy(\n",
    "    posterior=r_hsgcp_fit,\n",
    "    observed_data={\"y\": y},\n",
    "    log_likelihood=\"log_lik\"\n",
    ")"
   ]
  },
  {
   "cell_type": "markdown",
   "id": "bc32350c",
   "metadata": {},
   "source": [
    "### Diagnostics"
   ]
  },
  {
   "cell_type": "code",
   "execution_count": null,
   "id": "d3ec892a",
   "metadata": {},
   "outputs": [],
   "source": [
    "az.plot_posterior(hsgcp_arviz, var_names=['country_a', 'country_rho', 'country_alpha', 'site_lambda'])"
   ]
  },
  {
   "cell_type": "code",
   "execution_count": null,
   "id": "f204b41f",
   "metadata": {},
   "outputs": [],
   "source": [
    "az.plot_trace(hsgcp_arviz, var_names=['country_a', 'country_rho', 'country_alpha', 'site_lambda'])"
   ]
  },
  {
   "cell_type": "code",
   "execution_count": null,
   "id": "1a78e0f0",
   "metadata": {},
   "outputs": [],
   "source": [
    "az.ess(hsgcp_arviz, var_names=['country_a', 'country_rho', 'country_alpha', 'site_lambda'])"
   ]
  },
  {
   "cell_type": "code",
   "execution_count": null,
   "id": "ff26318e",
   "metadata": {},
   "outputs": [],
   "source": [
    "az.rhat(hsgcp_arviz, var_names=['country_a', 'country_rho', 'country_alpha', 'site_lambda'])"
   ]
  },
  {
   "cell_type": "markdown",
   "id": "3efd8ce7",
   "metadata": {},
   "source": [
    "## Posterior Functions of Baseline models"
   ]
  },
  {
   "cell_type": "code",
   "execution_count": null,
   "id": "0fd3b110",
   "metadata": {},
   "outputs": [],
   "source": [
    "# To plot posterior predictive plots for hierarchical\n",
    "func_mat1 = np.zeros((2,1000,11,200))\n",
    "for i in range(1000): # no. of chains\n",
    "    for j in range(11): # no. of countries\n",
    "        for k in range(200):\n",
    "            func_mat1[0,i,j,k] = hpg_arviz['posterior']['lambda'][0,i,j]\n",
    "            \n",
    "# To plot posterior predictive plots for hierarchical\n",
    "for i in range(1000): # no. of chains\n",
    "    for j in range(11): # no. of countries\n",
    "        for k in range(200):\n",
    "            func_mat1[1,i,j,:] = np.exp(np.array(clm_arviz['posterior']['country_a'][0,i,j]) +  np.array(clm_arviz['posterior']['country_b'][0,i,j])* x_tilde[j])\n",
    "            "
   ]
  },
  {
   "cell_type": "markdown",
   "id": "970f7db7",
   "metadata": {},
   "source": [
    "## Posterior Functions of LGCP, HLGCP and HLGCPT"
   ]
  },
  {
   "cell_type": "code",
   "execution_count": null,
   "id": "af5ade59",
   "metadata": {},
   "outputs": [],
   "source": [
    "with open('lgcp_initial_prior_13.pickle', 'rb') as f:\n",
    "    func_mat_lgcp = pickle.load(f)"
   ]
  },
  {
   "cell_type": "code",
   "execution_count": null,
   "id": "800044c8",
   "metadata": {
    "scrolled": true
   },
   "outputs": [],
   "source": [
    "func_mat2 = np.zeros((5,1000,11,200))\n",
    "for i in range(1000): # no. of chains\n",
    "    for j in range(11): # no. of countries\n",
    "        for k in range(200):\n",
    "            func_mat2[0,i,j,k] = lgcp_arviz['posterior']['a_plus_f'][0,i,j+11*(k)]\n",
    "            \n",
    "for i in range(1000): # no. of chains\n",
    "    for j in range(11): # no. of countries\n",
    "        for k in range(200):\n",
    "            func_mat2[1,i,j,k] = hlgcp1_arviz['posterior']['a_plus_f'][0,i,j+11*(k)]\n",
    "\n",
    "for i in range(1000): # no. of chains\n",
    "    for j in range(11): # no. of countries\n",
    "        for k in range(200):\n",
    "            func_mat2[2,i,j,k] = hlgcp2_arviz['posterior']['a_plus_f'][0,i,j+11*(k)]\n",
    "            \n",
    "for i in range(1000): # no. of chains\n",
    "    for j in range(11): # no. of countries\n",
    "        for k in range(200):\n",
    "            func_mat2[3,i,j,k] = hlgcp3_arviz['posterior']['a_plus_f'][0,i,j+11*(k)]\n",
    "            \n",
    "\n",
    "for i in range(1000): # no. of chains\n",
    "    for j in range(11): # no. of countries\n",
    "        for k in range(200):\n",
    "            func_mat2[4,i,j,k] = hlgcpt_arviz['posterior']['a_plus_f'][0,i,j+11*(k)]\n",
    "            "
   ]
  },
  {
   "cell_type": "markdown",
   "id": "0f2193d5",
   "metadata": {},
   "source": [
    "## Plots of Posterior Functions"
   ]
  },
  {
   "cell_type": "code",
   "execution_count": null,
   "id": "fb83de2d",
   "metadata": {
    "run_control": {
     "marked": true
    },
    "scrolled": true
   },
   "outputs": [],
   "source": [
    "fig, axs = plt.subplots(11,2, figsize=(30,60),  constrained_layout=True)\n",
    "fig.suptitle('Posterior Predictive Check Plots of LGCP')\n",
    "name_list = ['Prior 1 ', 'Prior 2 ']\n",
    "ddd_list = []\n",
    "\n",
    "for k in range(2):\n",
    "    if k == 0 : \n",
    "        count = -1\n",
    "    for j in range(11):\n",
    "        if j == 1:\n",
    "            count += 1\n",
    "        elif j == 7 :\n",
    "            count += 1\n",
    "        else : \n",
    "            pass\n",
    "        count += 1\n",
    "        ddd_list.append(count)\n",
    "\n",
    "        for i in np.random.randint(0, 1000, 400):\n",
    "            if k==0:\n",
    "                axs[j,k].plot(x_tilde[j], func_mat_lgcp[i,count,:], color='lightsteelblue',\n",
    "                        alpha = 0.5)\n",
    "                \n",
    "            elif k==1: \n",
    "                axs[j,k].plot(x_tilde[j], func_mat2[0,i,j,:], color='lightsteelblue',\n",
    "                    alpha = 0.5)\n",
    "            axs[j,k].set_title('LGCP-' + str(name_list[k]) + ' Country ' + str(j+1))"
   ]
  },
  {
   "cell_type": "code",
   "execution_count": null,
   "id": "49b7df76",
   "metadata": {},
   "outputs": [],
   "source": [
    "model_list = ['Prior 1 ', 'Prior 2 ', 'Prior 3 ']\n",
    "\n",
    "fig, axs = plt.subplots(11,3, figsize=(30,60),  constrained_layout=True)\n",
    "fig.suptitle('Posterior Predictive Check Plots of HLGCP')\n",
    "for k in range(3):\n",
    "    for j in range(11):\n",
    "        for i in np.random.randint(0, 1000, 400):\n",
    "            if k==0: \n",
    "                axs[j,k].plot(x_tilde[j, :180], func_mat2[1,i,j,:180], color='lightsteelblue',\n",
    "                alpha = 0.5)\n",
    "            elif k==1: \n",
    "                axs[j,k].plot(x_tilde[j, :180], func_mat2[2,i,j,:180], color='lightsteelblue',\n",
    "                alpha = 0.5)\n",
    "            else :\n",
    "                axs[j,k].plot(x_tilde[j, :180], func_mat2[3,i,j,:180], color='lightsteelblue',\n",
    "                alpha = 0.5)\n",
    "#         axs[j,k].plot(x_tilde[j], intensity[j], color='red')\n",
    "        axs[j,k].set_title('HLGCP-' + str(model_list[k])+' Country ' + str(j+1))"
   ]
  },
  {
   "cell_type": "code",
   "execution_count": null,
   "id": "fb552672",
   "metadata": {
    "scrolled": true
   },
   "outputs": [],
   "source": [
    "model_list = ['HPG','CLM']\n",
    "\n",
    "fig, axs = plt.subplots(11,2, figsize=(30,60),  constrained_layout=True)\n",
    "fig.suptitle('Posterior Predictive Check Plots of Baseline models')\n",
    "for k in range(2):\n",
    "    for j in range(11):\n",
    "        for i in np.random.randint(0, 1000, 400):\n",
    "            if k==0: \n",
    "                axs[j,k].plot(x_tilde[j], func_mat1[k,i,j,:], color='lightsteelblue',\n",
    "                alpha = 0.5)\n",
    "            elif k==1: \n",
    "                axs[j,k].plot(x_tilde[j], func_mat1[k,i,j,:], color='lightsteelblue',\n",
    "                alpha = 0.5)\n",
    "#             else :\n",
    "#                 axs[j,k].plot(x_tilde[j], func_mat2[0,i,j,:], color='lightsteelblue',\n",
    "#                 alpha = 0.5)\n",
    "#         axs[j,k].plot(x_tilde[j], intensity[j], color='red')\n",
    "        axs[j,k].set_title(str(model_list[k])+' Country ' + str(j+1))"
   ]
  },
  {
   "cell_type": "code",
   "execution_count": null,
   "id": "db8b5f6f",
   "metadata": {
    "scrolled": false
   },
   "outputs": [],
   "source": [
    "model_list = ['HLGCP', 'HLGCPT']\n",
    "\n",
    "fig, axs = plt.subplots(11,2, figsize=(30,60),  constrained_layout=True)\n",
    "fig.suptitle('Posterior Predictive Check Plots of Latent Functions')\n",
    "for k in range(2):\n",
    "    for j in range(11):\n",
    "        for i in np.random.randint(0, 1000, 400):\n",
    "            axs[j,k].plot(x_tilde[j, :180], func_mat2[k+3,i,j,:180], color='lightsteelblue',\n",
    "                alpha = 0.5)\n",
    "#         axs[j,k].plot(x_tilde[j], intensity[j], color='red')\n",
    "        axs[j,k].set_title(str(model_list[k])+' Country ' + str(j+1))"
   ]
  },
  {
   "cell_type": "markdown",
   "id": "97b5ee4f",
   "metadata": {},
   "source": [
    "# 11. HSGCPT"
   ]
  },
  {
   "cell_type": "code",
   "execution_count": null,
   "id": "0a64d2c0",
   "metadata": {},
   "outputs": [],
   "source": [
    "with open('real_hierarchical_sigmoidal_trend.pickle', 'rb') as f:\n",
    "    hsgcpt_list = pickle.load(f)\n",
    "r_hsgcpt_model, r_hsgcpt_fit = hsgcpt_list"
   ]
  },
  {
   "cell_type": "code",
   "execution_count": null,
   "id": "3059d0e6",
   "metadata": {},
   "outputs": [],
   "source": [
    "hsgcpt_arviz = az.from_cmdstanpy(\n",
    "    posterior=r_hsgcpt_fit,\n",
    "    observed_data={\"y\": y},\n",
    "    log_likelihood=\"log_lik\"\n",
    ")"
   ]
  },
  {
   "cell_type": "markdown",
   "id": "6e667ae8",
   "metadata": {},
   "source": [
    "### Diagnostics"
   ]
  },
  {
   "cell_type": "code",
   "execution_count": null,
   "id": "d0c95b4e",
   "metadata": {},
   "outputs": [],
   "source": [
    "az.plot_posterior(hsgcpt_arviz, var_names=['country_a', 'country_rho', 'country_alpha', 'site_lambda'])"
   ]
  },
  {
   "cell_type": "code",
   "execution_count": null,
   "id": "627dfb69",
   "metadata": {},
   "outputs": [],
   "source": [
    "az.plot_trace(hsgcpt_arviz, var_names=['country_a', 'country_rho', 'country_alpha', 'site_lambda'])"
   ]
  },
  {
   "cell_type": "markdown",
   "id": "816b396c",
   "metadata": {},
   "source": [
    "# Posterior Summary Statistics"
   ]
  },
  {
   "cell_type": "code",
   "execution_count": null,
   "id": "0686f47a",
   "metadata": {
    "run_control": {
     "marked": true
    }
   },
   "outputs": [],
   "source": [
    "hpg_summary = az.summary(hpg_arviz, var_names = ['lambda'])[['mean','sd','hdi_3%','hdi_97%',\n",
    "                                              'r_hat']]"
   ]
  },
  {
   "cell_type": "code",
   "execution_count": null,
   "id": "4fff3393",
   "metadata": {},
   "outputs": [],
   "source": [
    "hpg_summary.reset_index(level=0, inplace=True)\n",
    "print(hpg_summary.to_latex(index=False)) "
   ]
  },
  {
   "cell_type": "code",
   "execution_count": null,
   "id": "ea33fad4",
   "metadata": {},
   "outputs": [],
   "source": [
    "hhpg_summary = az.summary(hhpg_arviz, var_names = ['site_lambda'])[\n",
    "    ['mean','sd','hdi_3%','hdi_97%','r_hat']]"
   ]
  },
  {
   "cell_type": "code",
   "execution_count": null,
   "id": "f7cfcc84",
   "metadata": {},
   "outputs": [],
   "source": [
    "hhpg_summary.reset_index(level=0, inplace=True)\n",
    "hhpg_summary = pd.concat([hhpg_summary, site_df2], axis=1)[['index','week','mean','sd','hdi_3%','hdi_97%','r_hat']]\n",
    "print(hhpg_summary.to_latex(index=False))  "
   ]
  },
  {
   "cell_type": "code",
   "execution_count": null,
   "id": "f6a9d370",
   "metadata": {
    "run_control": {
     "marked": true
    }
   },
   "outputs": [],
   "source": [
    "clm_summary = az.summary(clm_arviz, var_names = ['country_a','country_b'])[\n",
    "    ['mean','sd','hdi_3%','hdi_97%','r_hat']]"
   ]
  },
  {
   "cell_type": "code",
   "execution_count": null,
   "id": "1be756b6",
   "metadata": {},
   "outputs": [],
   "source": [
    "clm_summary.reset_index(level=0, inplace=True)\n",
    "print(clm_summary.to_latex(index=False)) "
   ]
  },
  {
   "cell_type": "code",
   "execution_count": null,
   "id": "2c76089f",
   "metadata": {},
   "outputs": [],
   "source": [
    "hclm_summary = az.summary(hclm_arviz, var_names = ['site_a','site_b'])[\n",
    "    ['mean','sd','hdi_3%','hdi_97%','r_hat']]"
   ]
  },
  {
   "cell_type": "code",
   "execution_count": null,
   "id": "e66e238f",
   "metadata": {
    "run_control": {
     "marked": false
    }
   },
   "outputs": [],
   "source": [
    "site_df22 = pd.concat([site_df2]*2, ignore_index=True)"
   ]
  },
  {
   "cell_type": "code",
   "execution_count": null,
   "id": "1e29d8d9",
   "metadata": {},
   "outputs": [],
   "source": [
    "hclm_summary.reset_index(level=0, inplace=True)\n",
    "hclm_summary = pd.concat([hclm_summary, site_df22], axis=1)[['index','week','mean','sd','hdi_3%','hdi_97%','r_hat']]\n",
    "print(hclm_summary.to_latex(index=False))  "
   ]
  },
  {
   "cell_type": "code",
   "execution_count": null,
   "id": "8855d4f2",
   "metadata": {},
   "outputs": [],
   "source": [
    "lgcp_summary = az.summary(lgcp_arviz, var_names = ['country_rho','country_alpha','country_a'])[\n",
    "    ['mean','sd','hdi_3%','hdi_97%','r_hat']]"
   ]
  },
  {
   "cell_type": "code",
   "execution_count": null,
   "id": "0be12220",
   "metadata": {},
   "outputs": [],
   "source": [
    "lgcp_summary.reset_index(level=0, inplace=True)\n",
    "print(lgcp_summary.to_latex(index=False)) "
   ]
  },
  {
   "cell_type": "code",
   "execution_count": null,
   "id": "01e40f29",
   "metadata": {
    "run_control": {
     "marked": true
    }
   },
   "outputs": [],
   "source": [
    "hlgcp1_summary = az.summary(hlgcp1_arviz, var_names = ['country_rho','country_alpha','country_a'])[\n",
    "    ['mean','sd','hdi_3%','hdi_97%','r_hat']]"
   ]
  },
  {
   "cell_type": "code",
   "execution_count": null,
   "id": "2ed7dc10",
   "metadata": {},
   "outputs": [],
   "source": [
    "hlgcp1_summary.reset_index(level=0, inplace=True)\n",
    "print(hlgcp1_summary.to_latex(index=False))  "
   ]
  },
  {
   "cell_type": "code",
   "execution_count": null,
   "id": "22e949cf",
   "metadata": {
    "run_control": {
     "marked": true
    }
   },
   "outputs": [],
   "source": [
    "hlgcp2_summary = az.summary(hlgcp2_arviz, var_names = ['country_rho','country_alpha','country_a'])[\n",
    "    ['mean','sd','hdi_3%','hdi_97%','r_hat']]"
   ]
  },
  {
   "cell_type": "code",
   "execution_count": null,
   "id": "59ec884d",
   "metadata": {},
   "outputs": [],
   "source": [
    "hlgcp2_summary.reset_index(level=0, inplace=True)\n",
    "print(hlgcp2_summary.to_latex(index=False))  "
   ]
  },
  {
   "cell_type": "code",
   "execution_count": null,
   "id": "fe551a05",
   "metadata": {},
   "outputs": [],
   "source": [
    "hlgcp3_summary = az.summary(hlgcp3_arviz, var_names = ['country_rho','country_alpha','country_a'])[\n",
    "    ['mean','sd','hdi_3%','hdi_97%','r_hat']]"
   ]
  },
  {
   "cell_type": "code",
   "execution_count": null,
   "id": "214d0185",
   "metadata": {},
   "outputs": [],
   "source": [
    "hlgcp3_summary.reset_index(level=0, inplace=True)\n",
    "print(hlgcp3_summary.to_latex(index=False))  "
   ]
  },
  {
   "cell_type": "code",
   "execution_count": null,
   "id": "1299c2ae",
   "metadata": {},
   "outputs": [],
   "source": [
    "hlgcpt_summary = az.summary(hlgcpt_arviz, var_names = ['country_rho','country_alpha','country_a','country_b'])[\n",
    "    ['mean','sd','hdi_3%','hdi_97%','r_hat']]"
   ]
  },
  {
   "cell_type": "code",
   "execution_count": null,
   "id": "a8d15ae1",
   "metadata": {},
   "outputs": [],
   "source": [
    "hlgcpt_summary.reset_index(level=0, inplace=True)\n",
    "print(hlgcpt_summary.to_latex(index=False))  "
   ]
  },
  {
   "cell_type": "code",
   "execution_count": null,
   "id": "51c3676a",
   "metadata": {
    "run_control": {
     "marked": true
    }
   },
   "outputs": [],
   "source": [
    "hsgcp_country_summary = az.summary(hsgcp_arviz, var_names = ['country_rho','country_alpha','country_a'])[\n",
    "    ['mean','sd','hdi_3%','hdi_97%','r_hat']]"
   ]
  },
  {
   "cell_type": "code",
   "execution_count": null,
   "id": "2c60564b",
   "metadata": {},
   "outputs": [],
   "source": [
    "hsgcp_country_summary.reset_index(level=0, inplace=True)\n",
    "print(hsgcp_country_summary.to_latex(index=False))  "
   ]
  },
  {
   "cell_type": "code",
   "execution_count": null,
   "id": "7ece7be4",
   "metadata": {},
   "outputs": [],
   "source": [
    "hsgcp_site_summary = az.summary(hsgcp_arviz, var_names = ['site_lambda'])[\n",
    "    ['mean','sd','hdi_3%','hdi_97%','r_hat']]"
   ]
  },
  {
   "cell_type": "code",
   "execution_count": null,
   "id": "f56c3304",
   "metadata": {},
   "outputs": [],
   "source": [
    "hsgcp_site_summary.reset_index(level=0, inplace=True)\n",
    "hsgcp_site_summary = pd.concat([hsgcp_site_summary, site_df2], axis=1)[['index','week','mean','sd','hdi_3%','hdi_97%','r_hat']]\n",
    "print(hsgcp_site_summary.to_latex(index=False))  "
   ]
  },
  {
   "cell_type": "code",
   "execution_count": null,
   "id": "bfc16b1c",
   "metadata": {},
   "outputs": [],
   "source": [
    "hsgcpt_country_summary = az.summary(hsgcpt_arviz, var_names = ['country_rho','country_alpha','country_a','country_b'])[\n",
    "    ['mean','sd','hdi_3%','hdi_97%','r_hat']]"
   ]
  },
  {
   "cell_type": "code",
   "execution_count": null,
   "id": "f034798b",
   "metadata": {},
   "outputs": [],
   "source": [
    "hsgcpt_country_summary.reset_index(level=0, inplace=True)\n",
    "print(hsgcpt_country_summary.to_latex(index=False))  "
   ]
  },
  {
   "cell_type": "code",
   "execution_count": null,
   "id": "9453ade5",
   "metadata": {},
   "outputs": [],
   "source": [
    "hsgcpt_site_summary = az.summary(hsgcpt_arviz, var_names = ['site_lambda'])[\n",
    "    ['mean','sd','hdi_3%','hdi_97%','r_hat']]"
   ]
  },
  {
   "cell_type": "code",
   "execution_count": null,
   "id": "3c8dc9ff",
   "metadata": {
    "run_control": {
     "marked": false
    }
   },
   "outputs": [],
   "source": [
    "hsgcpt_site_summary.reset_index(level=0, inplace=True)\n",
    "hsgcpt_site_summary = pd.concat([hsgcpt_site_summary, site_df2], axis=1)[['index','week','mean','sd','hdi_3%','hdi_97%','r_hat']]"
   ]
  },
  {
   "cell_type": "code",
   "execution_count": null,
   "id": "b2db8de1",
   "metadata": {},
   "outputs": [],
   "source": [
    "# hsgcpt_site_summary['index'] = hsgcpt_site_summary['index'].shift(-1)\n",
    "print(hsgcpt_site_summary.to_latex(index=False))  "
   ]
  },
  {
   "cell_type": "markdown",
   "id": "13dc9f3f",
   "metadata": {},
   "source": [
    "## Model Comparison"
   ]
  },
  {
   "cell_type": "code",
   "execution_count": null,
   "id": "04d9a624",
   "metadata": {
    "scrolled": true
   },
   "outputs": [],
   "source": [
    "compare_dict = {\n",
    "    \"HPG\":hpg_arviz, \n",
    "    \"HHPG\":hhpg_arviz, \n",
    "    \"CLM\":clm_arviz, \n",
    "    \"HCLM\":hclm_arviz, \n",
    "    \"LGCP\":lgcp_arviz, \n",
    "    \"HLGCP-Prior 1\":hlgcp1_arviz, \n",
    "    \"HLGCP-Prior 2\":hlgcp2_arviz, \n",
    "    \"HLGCP-Prior 3\":hlgcp3_arviz, \n",
    "    \"HLGCPT\":hlgcpt_arviz, \n",
    "    \"HSGCP\":hsgcp_arviz, \n",
    "    \"HSGCPT\":hsgcpt_arviz\n",
    "}\n",
    "df_comp_loo = az.compare(compare_dict)"
   ]
  },
  {
   "cell_type": "code",
   "execution_count": null,
   "id": "2d4f498e",
   "metadata": {},
   "outputs": [],
   "source": [
    "pd.options.display.float_format = '{:.2f}'.format"
   ]
  },
  {
   "cell_type": "code",
   "execution_count": null,
   "id": "b2663e20",
   "metadata": {},
   "outputs": [],
   "source": [
    "df_comp_loo = df_comp_loo[['rank','loo','se','weight']]"
   ]
  },
  {
   "cell_type": "code",
   "execution_count": null,
   "id": "29266d04",
   "metadata": {},
   "outputs": [],
   "source": [
    "df_comp_loo.reset_index(level=0, inplace=True)\n",
    "print(df_comp_loo.to_latex(index=False)) "
   ]
  },
  {
   "cell_type": "code",
   "execution_count": null,
   "id": "747b6e80",
   "metadata": {},
   "outputs": [],
   "source": []
  }
 ],
 "metadata": {
  "kernelspec": {
   "display_name": "Python 3",
   "language": "python",
   "name": "python3"
  },
  "language_info": {
   "codemirror_mode": {
    "name": "ipython",
    "version": 3
   },
   "file_extension": ".py",
   "mimetype": "text/x-python",
   "name": "python",
   "nbconvert_exporter": "python",
   "pygments_lexer": "ipython3",
   "version": "3.8.10"
  }
 },
 "nbformat": 4,
 "nbformat_minor": 5
}
